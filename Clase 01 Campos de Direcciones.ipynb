{
 "cells": [
  {
   "cell_type": "code",
   "execution_count": 2,
   "id": "99fe353f",
   "metadata": {},
   "outputs": [],
   "source": [
    "import numpy as np\n",
    "import matplotlib.pyplot as plt"
   ]
  },
  {
   "cell_type": "markdown",
   "id": "4ee7c45a",
   "metadata": {},
   "source": [
    "# Gráficos en Python\n",
    "\n",
    "En ocasiones, debido a que ciertas ecuaciones diferenciales no poseen soluciones explícitas, es necesario realizar un análisis cualitativo, es decir, realizar interpretaciones a partir del comportamiento gráfico de la solución, esto nos permite describir fenómenos, sin necesidad de utilizar alguna técnica de resolución ya sea analítica o numérica.\n",
    "\n",
    "Para construir los gráficos necesarios utilizamos la librería `matplotlib.pyplot` cuya documentación completa se puede encontrar en el enlace\n",
    "* https://matplotlib.org/stable/index.html"
   ]
  },
  {
   "cell_type": "markdown",
   "id": "b581c49d",
   "metadata": {},
   "source": [
    "# Un par de funciones adicionales con arreglos/gráficos\n",
    "* `matplotlib.pyplot.quiver([X,Y],U,V)`: X, Y define las coordenadas del inicio de un vector y U, V define la dirección de la flecha"
   ]
  },
  {
   "cell_type": "code",
   "execution_count": 3,
   "id": "826aa96c",
   "metadata": {},
   "outputs": [
    {
     "data": {
      "image/png": "[encoded data removed]",
      "text/plain": [
       "<Figure size 640x480 with 1 Axes>"
      ]
     },
     "metadata": {},
     "output_type": "display_data"
    }
   ],
   "source": [
    "X,Y=[2,3]\n",
    "U,V=[2,5]\n",
    "\n",
    "plt.quiver(X,Y,U,V)\n",
    "plt.grid()"
   ]
  },
  {
   "cell_type": "code",
   "execution_count": 4,
   "id": "428a451c",
   "metadata": {},
   "outputs": [
    {
     "data": {
      "text/plain": [
       "(0.0, 4.0)"
      ]
     },
     "execution_count": 4,
     "metadata": {},
     "output_type": "execute_result"
    },
    {
     "data": {
      "image/png": "[encoded data removed]",
      "text/plain": [
       "<Figure size 640x480 with 1 Axes>"
      ]
     },
     "metadata": {},
     "output_type": "display_data"
    }
   ],
   "source": [
    "X,Y=[[2,2,3],[2,3,1]]\n",
    "U,V=[[1,2,4],[1,1,1]]\n",
    "\n",
    "plt.grid()\n",
    "\n",
    "plt.quiver(X,Y,U,V)\n",
    "\n",
    "plt.xlim([0, 4])\n",
    "plt.ylim([0, 4])"
   ]
  },
  {
   "cell_type": "markdown",
   "id": "3f961ddc",
   "metadata": {},
   "source": [
    "`meshgrid` devuelve una lista de matrices de coordenadas a partir de vectores de coordenadas."
   ]
  },
  {
   "cell_type": "code",
   "execution_count": 5,
   "id": "6babd886",
   "metadata": {},
   "outputs": [
    {
     "data": {
      "text/plain": [
       "(array([[-1.,  0.,  1.],\n",
       "        [-1.,  0.,  1.],\n",
       "        [-1.,  0.,  1.]]),\n",
       " array([[-1., -1., -1.],\n",
       "        [ 0.,  0.,  0.],\n",
       "        [ 1.,  1.,  1.]]))"
      ]
     },
     "execution_count": 5,
     "metadata": {},
     "output_type": "execute_result"
    }
   ],
   "source": [
    "X = np.linspace(-1, 1, 3)\n",
    "Y = np.linspace(-1, 1, 3)\n",
    "\n",
    "X,Y = np.meshgrid(X,Y)\n",
    "X,Y"
   ]
  },
  {
   "cell_type": "markdown",
   "id": "4633f721",
   "metadata": {},
   "source": [
    "# Campo de direcciones\n",
    "\n",
    "Corresponde a un bosquejo con pequeños segmentos de recta trazados en un sistema de coordenadas cartesianas $xy$ (o simplemente plano $xy$), donde se muestra el comportamiento de la pendiente de la curva solución a la EDO $y'=f(x,y)$.\n",
    "\n",
    "Para generar dicho bosquejo en Python, podemos utilizar las funciones anteriormente mencionadas, en este sentido, en vez de graficar \"pequeños segmentos\" en la práctica graficamos vectores unitarios en las direcciones correspondientes.\n",
    "\n",
    "\n",
    "## Ejemplo 1\n",
    "\n",
    "Para iniciar nuestro estudio consideremos la EDO\n",
    "$$ y'= \\arctan(y)e^{-x^2} $$\n",
    "y generemos el campo de direcciones asociado a la ecuación."
   ]
  },
  {
   "cell_type": "code",
   "execution_count": 7,
   "id": "d8a346ee",
   "metadata": {},
   "outputs": [
    {
     "ename": "SyntaxError",
     "evalue": "'(' was never closed (1772245188.py, line 1)",
     "output_type": "error",
     "traceback": [
      "\u001b[1;36m  Cell \u001b[1;32mIn[7], line 1\u001b[1;36m\u001b[0m\n\u001b[1;33m    X,Y=np.meshgrid(# Muestra en x, Muestra en y)\u001b[0m\n\u001b[1;37m                   ^\u001b[0m\n\u001b[1;31mSyntaxError\u001b[0m\u001b[1;31m:\u001b[0m '(' was never closed\n"
     ]
    }
   ],
   "source": [
    "X,Y=np.meshgrid(# Muestra en x, Muestra en y)\n",
    "\n",
    "U = # Delta X\n",
    "V = # Delta Y\n",
    "\n",
    "N = np.sqrt(U ** 2 + V ** 2) #Normalizamos los vectores\n",
    "U = U / N\n",
    "V = V / N\n",
    "\n",
    "plt.quiver(X, Y, U, V) #graficamos los vectores con origen en (x,y) y término (u,v)\n"
   ]
  },
  {
   "cell_type": "markdown",
   "id": "7e7ec809",
   "metadata": {},
   "source": [
    "## Ejemplo 2\n",
    "Considere la Ecuación Diferencial Ordinaria \n",
    "$$(x - y)dx - dy = 0$$\n",
    "* a) Grafique el campo de direcciones asociado en la región $[-5,5] \\times [-5,5]$.\n",
    "* b) Grafique sobre el campo anterior la función $f(x)=e^{-x}+x-1$ y en base al gráfico justifique si $f$ es una solución particular de la EDO.\n",
    "* c) Realice el mismo estudio, esta vez con la función $g(x)=2e^{-x}-x+1$.\n"
   ]
  },
  {
   "cell_type": "code",
   "execution_count": null,
   "id": "f15cfe6e",
   "metadata": {},
   "outputs": [],
   "source": []
  },
  {
   "cell_type": "markdown",
   "id": "a910e45a",
   "metadata": {},
   "source": [
    "# EDO autónoma\n",
    "\n",
    "Una ecuación de la forma $y'=f(y)$, es decir, una ecuación diferencial de primer orden en donde $f$ depende solo de la variable dependiente se denomina ecuación autónoma."
   ]
  },
  {
   "cell_type": "markdown",
   "id": "5b249789",
   "metadata": {},
   "source": [
    "# Puntos de equilibrio\n",
    "\n",
    "Dada una EDO autónoma $y'=f(y)$, si $f(y_0) = 0$ diremos que la recta $y = y_0$ es una solución de equilibrio de la EDO autónoma, y al valor $y_0$ lo denominamos punto de equilibrio.\n",
    "\n",
    "## Clasificación de puntos de equilibrio\n",
    "\n",
    "* Un punto de equilibrio $y_0$ se dirá sumidero o atractor si cualquier solución suficientemente cerca a $y = y_0$ tiende asintóticamente a $y_0$ a medida de que $x$ aumenta.\n",
    "\n",
    "* Un punto de equilibrio $y_0$ se dirá fuente o repulsor si cualquier solución suficientemente cerca a $y = y_0$ tiende asintóticamente a $y_0$ a medida de que $x$ decrece.\n",
    "\n",
    "* Un punto de equilibrio $y_0$ se dirá nodo si este no es fuente ni sumidero.\n",
    "\n",
    "\n"
   ]
  },
  {
   "cell_type": "markdown",
   "id": "e356b2b7",
   "metadata": {},
   "source": [
    "## Ejemplo 3:  $y'=\\arctan(y)[-9 + 18 y - 8 y^2 - 2 y^3 + y^4]$"
   ]
  },
  {
   "cell_type": "code",
   "execution_count": null,
   "id": "1a3e1817",
   "metadata": {},
   "outputs": [],
   "source": []
  }
 ],
 "metadata": {
  "kernelspec": {
   "display_name": "Python 3 (ipykernel)",
   "language": "python",
   "name": "python3"
  },
  "language_info": {
   "codemirror_mode": {
    "name": "ipython",
    "version": 3
   },
   "file_extension": ".py",
   "mimetype": "text/x-python",
   "name": "python",
   "nbconvert_exporter": "python",
   "pygments_lexer": "ipython3",
   "version": "3.12.undefined"
  }
 },
 "nbformat": 4,
 "nbformat_minor": 5
}
