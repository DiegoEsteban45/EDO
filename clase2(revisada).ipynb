{
  "metadata": {
    "kernelspec": {
      "name": "python",
      "display_name": "Python (Pyodide)",
      "language": "python"
    },
    "language_info": {
      "codemirror_mode": {
        "name": "python",
        "version": 3
      },
      "file_extension": ".py",
      "mimetype": "text/x-python",
      "name": "python",
      "nbconvert_exporter": "python",
      "pygments_lexer": "ipython3",
      "version": "3.8"
    }
  },
  "nbformat_minor": 4,
  "nbformat": 4,
  "cells": [
    {
      "cell_type": "code",
      "source": "import matplotlib.pyplot as plt\nimport sympy as sp\nimport numpy as np",
      "metadata": {
        "trusted": true
      },
      "outputs": [],
      "execution_count": 1
    },
    {
      "cell_type": "markdown",
      "source": "# Sympy\n\nEs una librería de Python para matemática simbólica. Su objetivo trabajar un sistema de álgebra computacional conocido como CAS, con todas las funciones, manteniendo el código lo más simple posible para que sea fácilmente comprensible.\n\nPara ver la documentación completa ver \nhttps://www.sympy.org/ ",
      "metadata": {}
    },
    {
      "cell_type": "markdown",
      "source": "## Ejemplo 1:\n\nDeclarar $\\sqrt[3]{2}$ usando librería numpy y sympy. Observar diferencias.",
      "metadata": {}
    },
    {
      "cell_type": "code",
      "source": "np.cbrt(2)#respuesta numerica",
      "metadata": {
        "trusted": true
      },
      "outputs": [
        {
          "execution_count": 2,
          "output_type": "execute_result",
          "data": {
            "text/plain": "1.2599210498948732"
          },
          "metadata": {}
        }
      ],
      "execution_count": 2
    },
    {
      "cell_type": "code",
      "source": "sp.cbrt(2)#variable simbolica",
      "metadata": {
        "trusted": true
      },
      "outputs": [
        {
          "execution_count": 3,
          "output_type": "execute_result",
          "data": {
            "text/plain": "2**(1/3)",
            "text/latex": "$\\displaystyle \\sqrt[3]{2}$"
          },
          "metadata": {}
        }
      ],
      "execution_count": 3
    },
    {
      "cell_type": "markdown",
      "source": "## Declaración de variables\n\n* Forma 1:",
      "metadata": {}
    },
    {
      "cell_type": "code",
      "source": "x=sp.Symbol(\"beta\")#lo que esta dentro del parantesis es lo que veo ya que es ssimbolico\nprint(x)",
      "metadata": {
        "trusted": true
      },
      "outputs": [
        {
          "name": "stdout",
          "text": "beta\n",
          "output_type": "stream"
        }
      ],
      "execution_count": 8
    },
    {
      "cell_type": "markdown",
      "source": "* Forma 2:\n",
      "metadata": {}
    },
    {
      "cell_type": "code",
      "source": "\n# Definición de las variables con valores reales\ny, z, c, omega = sp.symbols(\"y z c omega\", real=True)\n",
      "metadata": {
        "trusted": true
      },
      "outputs": [],
      "execution_count": 12
    },
    {
      "cell_type": "code",
      "source": "k",
      "metadata": {
        "trusted": true
      },
      "outputs": [
        {
          "execution_count": 7,
          "output_type": "execute_result",
          "data": {
            "text/plain": "omega",
            "text/latex": "$\\displaystyle \\omega$"
          },
          "metadata": {}
        }
      ],
      "execution_count": 7
    },
    {
      "cell_type": "markdown",
      "source": "Algunos atributos adicionales\n\n* integer=True\n* real=True\n* positive=True\n",
      "metadata": {}
    },
    {
      "cell_type": "markdown",
      "source": "## Ejemplo 3: Resolución de ecuaciones algebraicas\n\nLa EDO \n\n$$(y^5 - 6 y^4 - 5 y^3 - 10 y^2 - 36 y + 56)dx+(y^2+1)dy = 0$$\n\nes autónoma. Encontrar los puntos estacionarios de la ecuación.",
      "metadata": {}
    },
    {
      "cell_type": "code",
      "source": "sp.solve((y**5 - 6*y**4 - 5*y**3 - 10*y**2 - 36*y + 56))",
      "metadata": {
        "trusted": true
      },
      "outputs": [
        {
          "execution_count": 13,
          "output_type": "execute_result",
          "data": {
            "text/plain": "[-2, 1, 7]"
          },
          "metadata": {}
        }
      ],
      "execution_count": 13
    },
    {
      "cell_type": "markdown",
      "source": "## Ejemplo 4:\n\nEncuentre las soluciones estacionarias de la EDO\n\n$$\\sin y \\sqrt{y-1} dx - (x^2-1)dy = 0 $$\n",
      "metadata": {}
    },
    {
      "cell_type": "code",
      "source": "sp.solveset(sp.sin(y)*sp.sqrt(y-1)) #solve set me da el dominio de forma bonita",
      "metadata": {
        "trusted": true
      },
      "outputs": [
        {
          "execution_count": 15,
          "output_type": "execute_result",
          "data": {
            "text/plain": "Union({1}, ImageSet(Lambda(_n, 2*_n*pi + pi), Integers), ImageSet(Lambda(_n, 2*_n*pi), Integers))",
            "text/latex": "$\\displaystyle \\left\\{1\\right\\} \\cup \\left\\{2 n \\pi\\; \\middle|\\; n \\in \\mathbb{Z}\\right\\} \\cup \\left\\{2 n \\pi + \\pi\\; \\middle|\\; n \\in \\mathbb{Z}\\right\\}$"
          },
          "metadata": {}
        }
      ],
      "execution_count": 15
    },
    {
      "cell_type": "markdown",
      "source": "## Ejemplo 5: Declaración/Resolución/Comprobación de EDO\n\nDeclarar y resolver la ecuación diferencial de Bernoulli usando comando `dsolve`\n\n$$\\dfrac{dy}{dx} - y = 2e^x y^2 $$",
      "metadata": {}
    },
    {
      "cell_type": "code",
      "source": "x=sp.symbol(\"x\", real=True)\ny=sp.symbol(\"y\", real=True)",
      "metadata": {},
      "outputs": [],
      "execution_count": null
    },
    {
      "cell_type": "code",
      "source": "sp.dif(y(x),x,20) #es un ejemplo que que estoy haciendo la derivada 20va de x",
      "metadata": {
        "trusted": true
      },
      "outputs": [],
      "execution_count": null
    },
    {
      "cell_type": "code",
      "source": "sp.integrate(y(x),x)#hacer integrales",
      "metadata": {
        "trusted": true
      },
      "outputs": [],
      "execution_count": null
    },
    {
      "cell_type": "markdown",
      "source": "Eq=",
      "metadata": {}
    },
    {
      "cell_type": "markdown",
      "source": "## Ejemplo 6: PVI\n\nResolver el PVI\n$$\\dfrac{dy}{dx} - y = 2e^x y^2 \\quad ; \\quad y(1)=\\pi$$\n",
      "metadata": {}
    },
    {
      "cell_type": "code",
      "source": "sp.dsolve(Eq,y(x), ics{y(1):sp.pi)}",
      "metadata": {},
      "outputs": [],
      "execution_count": null
    },
    {
      "cell_type": "markdown",
      "source": "## Ejemplo 7: Calculo de derivadas\n\nVerificar si la EDO es exacta \n\n$$\\left[ \\dfrac{\\ln(\\ln(y))}{x}+\\dfrac{2}{3}xy^3+6x \\right] dx+ \\left[\\dfrac{\\ln(x)}{y\\ln(y)}+x^2y^2+4e^{-2y} \\right]dy=0$$\n",
      "metadata": {}
    },
    {
      "cell_type": "code",
      "source": "x=sp.symbols(\"x\", real=True)\ny=sp.symbols(\"y\", real=True)\nC=sp.symbols(\"C\", real=True)\n\n\n\n",
      "metadata": {
        "trusted": true
      },
      "outputs": [],
      "execution_count": 61
    },
    {
      "cell_type": "code",
      "source": "M=(sp.log((sp.log(y)))/x+sp.Rational(2,3)*x*y**3+6*x)\nM",
      "metadata": {
        "trusted": true,
        "scrolled": true
      },
      "outputs": [
        {
          "execution_count": 37,
          "output_type": "execute_result",
          "data": {
            "text/plain": "2*x*y**3/3 + 6*x + log(log(y))/x",
            "text/latex": "$\\displaystyle \\frac{2 x y^{3}}{3} + 6 x + \\frac{\\log{\\left(\\log{\\left(y \\right)} \\right)}}{x}$"
          },
          "metadata": {}
        }
      ],
      "execution_count": 37
    },
    {
      "cell_type": "code",
      "source": "N=(sp.log(x)/(y*sp.log(y))+x**2*y**2+4*sp.exp(-2*y))\nN",
      "metadata": {
        "trusted": true
      },
      "outputs": [
        {
          "execution_count": 32,
          "output_type": "execute_result",
          "data": {
            "text/plain": "x**2*y**2 + 4*exp(-2*y) + log(x)/(y*log(y))",
            "text/latex": "$\\displaystyle x^{2} y^{2} + 4 e^{- 2 y} + \\frac{\\log{\\left(x \\right)}}{y \\log{\\left(y \\right)}}$"
          },
          "metadata": {}
        }
      ],
      "execution_count": 32
    },
    {
      "cell_type": "code",
      "source": "sp.diff(M,y)",
      "metadata": {
        "trusted": true
      },
      "outputs": [
        {
          "execution_count": 38,
          "output_type": "execute_result",
          "data": {
            "text/plain": "2*x*y**2 + 1/(x*y*log(y))",
            "text/latex": "$\\displaystyle 2 x y^{2} + \\frac{1}{x y \\log{\\left(y \\right)}}$"
          },
          "metadata": {}
        }
      ],
      "execution_count": 38
    },
    {
      "cell_type": "code",
      "source": "sp.diff(N,x)",
      "metadata": {
        "trusted": true
      },
      "outputs": [
        {
          "execution_count": 36,
          "output_type": "execute_result",
          "data": {
            "text/plain": "2*x*y**2 + 1/(x*y*log(y))",
            "text/latex": "$\\displaystyle 2 x y^{2} + \\frac{1}{x y \\log{\\left(y \\right)}}$"
          },
          "metadata": {}
        }
      ],
      "execution_count": 36
    },
    {
      "cell_type": "markdown",
      "source": "## Ejemplo 8: Calculo de primitivas\n\nResolver la EDO del ejemplo 7.",
      "metadata": {}
    },
    {
      "cell_type": "code",
      "source": "f=sp.integrate(M,x) #integramos M con respecto a x para sacar fx=f\nf",
      "metadata": {
        "trusted": true
      },
      "outputs": [
        {
          "execution_count": 54,
          "output_type": "execute_result",
          "data": {
            "text/plain": "x**2*(y**3 + 9)/3 + log(x)*log(log(y))",
            "text/latex": "$\\displaystyle \\frac{x^{2} \\left(y^{3} + 9\\right)}{3} + \\log{\\left(x \\right)} \\log{\\left(\\log{\\left(y \\right)} \\right)}$"
          },
          "metadata": {}
        }
      ],
      "execution_count": 54
    },
    {
      "cell_type": "code",
      "source": "sp.diff(f,y) #derivamos f con respecto a \"y\" para despejar la variable g(y) fy=g(y)",
      "metadata": {
        "trusted": true
      },
      "outputs": [
        {
          "execution_count": 55,
          "output_type": "execute_result",
          "data": {
            "text/plain": "x**2*y**2 + log(x)/(y*log(y))",
            "text/latex": "$\\displaystyle x^{2} y^{2} + \\frac{\\log{\\left(x \\right)}}{y \\log{\\left(y \\right)}}$"
          },
          "metadata": {}
        }
      ],
      "execution_count": 55
    },
    {
      "cell_type": "code",
      "source": "gy=(sp.diff(f,y)-N) #sacamos la variable que depende de y es decir g(y) \ngy",
      "metadata": {
        "trusted": true
      },
      "outputs": [
        {
          "execution_count": 59,
          "output_type": "execute_result",
          "data": {
            "text/plain": "-4*exp(-2*y)",
            "text/latex": "$\\displaystyle - 4 e^{- 2 y}$"
          },
          "metadata": {}
        }
      ],
      "execution_count": 59
    },
    {
      "cell_type": "code",
      "source": "sp.integrate(gy,y) #integramos g(y) ",
      "metadata": {
        "trusted": true
      },
      "outputs": [
        {
          "execution_count": 60,
          "output_type": "execute_result",
          "data": {
            "text/plain": "2*exp(-2*y)",
            "text/latex": "$\\displaystyle 2 e^{- 2 y}$"
          },
          "metadata": {}
        }
      ],
      "execution_count": 60
    },
    {
      "cell_type": "code",
      "source": "respuesta_final=sp.integrate((sp.diff(f,y)-N),y)+f #solucion \nprint(\"c =\") \nrespuesta_final",
      "metadata": {
        "trusted": true
      },
      "outputs": [
        {
          "name": "stdout",
          "text": "c =\n",
          "output_type": "stream"
        },
        {
          "execution_count": 65,
          "output_type": "execute_result",
          "data": {
            "text/plain": "x**2*(y**3 + 9)/3 + log(x)*log(log(y)) + 2*exp(-2*y)",
            "text/latex": "$\\displaystyle \\frac{x^{2} \\left(y^{3} + 9\\right)}{3} + \\log{\\left(x \\right)} \\log{\\left(\\log{\\left(y \\right)} \\right)} + 2 e^{- 2 y}$"
          },
          "metadata": {}
        }
      ],
      "execution_count": 65
    },
    {
      "cell_type": "code",
      "source": "",
      "metadata": {
        "trusted": true
      },
      "outputs": [],
      "execution_count": null
    },
    {
      "cell_type": "code",
      "source": "",
      "metadata": {
        "trusted": true
      },
      "outputs": [],
      "execution_count": null
    },
    {
      "cell_type": "code",
      "source": "",
      "metadata": {
        "trusted": true
      },
      "outputs": [],
      "execution_count": null
    }
  ]
}