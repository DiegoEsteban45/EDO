{
  "cells": [
    {
      "cell_type": "code",
      "execution_count": 2,
      "metadata": {
        "trusted": true
      },
      "outputs": [],
      "source": [
        "import matplotlib.pyplot as plt\n",
        "import sympy as sp\n",
        "import numpy as np"
      ]
    },
    {
      "cell_type": "markdown",
      "metadata": {},
      "source": [
        "# Sympy\n",
        "\n",
        "Es una librería de Python para matemática simbólica. Su objetivo trabajar un sistema de álgebra computacional conocido como CAS, con todas las funciones, manteniendo el código lo más simple posible para que sea fácilmente comprensible.\n",
        "\n",
        "Para ver la documentación completa ver \n",
        "https://www.sympy.org/ "
      ]
    },
    {
      "cell_type": "markdown",
      "metadata": {},
      "source": [
        "## Ejemplo 1:\n",
        "\n",
        "Declarar $\\sqrt[3]{2}$ usando librería numpy y sympy. Observar diferencias."
      ]
    },
    {
      "cell_type": "code",
      "execution_count": 3,
      "metadata": {
        "trusted": true
      },
      "outputs": [
        {
          "data": {
            "text/plain": [
              "1.259921049894873"
            ]
          },
          "execution_count": 3,
          "metadata": {},
          "output_type": "execute_result"
        }
      ],
      "source": [
        "np.cbrt(2)#respuesta numerica"
      ]
    },
    {
      "cell_type": "code",
      "execution_count": 3,
      "metadata": {
        "trusted": true
      },
      "outputs": [
        {
          "data": {
            "text/latex": [
              "$\\displaystyle \\sqrt[3]{2}$"
            ],
            "text/plain": [
              "2**(1/3)"
            ]
          },
          "execution_count": 3,
          "metadata": {},
          "output_type": "execute_result"
        }
      ],
      "source": [
        "sp.cbrt(2)#variable simbolica"
      ]
    },
    {
      "cell_type": "markdown",
      "metadata": {},
      "source": [
        "## Declaración de variables\n",
        "\n",
        "* Forma 1:"
      ]
    },
    {
      "cell_type": "code",
      "execution_count": 3,
      "metadata": {
        "trusted": true
      },
      "outputs": [
        {
          "data": {
            "text/latex": [
              "$\\displaystyle \\beta$"
            ],
            "text/plain": [
              "beta"
            ]
          },
          "execution_count": 3,
          "metadata": {},
          "output_type": "execute_result"
        }
      ],
      "source": [
        "x=sp.Symbol(\"beta\")#lo que esta dentro del parantesis es lo que veo ya que es ssimbolico\n",
        "x"
      ]
    },
    {
      "cell_type": "markdown",
      "metadata": {},
      "source": [
        "* Forma 2:\n"
      ]
    },
    {
      "cell_type": "code",
      "execution_count": 4,
      "metadata": {
        "trusted": true
      },
      "outputs": [
        {
          "data": {
            "text/latex": [
              "$\\displaystyle \\omega$"
            ],
            "text/plain": [
              "omega"
            ]
          },
          "execution_count": 4,
          "metadata": {},
          "output_type": "execute_result"
        }
      ],
      "source": [
        "\n",
        "# Definición de las variables con valores reales\n",
        "y, z, c, omega = sp.symbols(\"y z c omega\", real=True)\n",
        "y\n",
        "omega"
      ]
    },
    {
      "cell_type": "markdown",
      "metadata": {},
      "source": [
        "Algunos atributos adicionales\n",
        "\n",
        "* integer=True\n",
        "* real=True\n",
        "* positive=True\n"
      ]
    },
    {
      "cell_type": "markdown",
      "metadata": {},
      "source": [
        "## Ejemplo 3: Resolución de ecuaciones algebraicas\n",
        "\n",
        "La EDO \n",
        "\n",
        "$$(y^5 - 6 y^4 - 5 y^3 - 10 y^2 - 36 y + 56)dx+(y^2+1)dy = 0$$\n",
        "\n",
        "es autónoma. Encontrar los puntos estacionarios de la ecuación."
      ]
    },
    {
      "cell_type": "code",
      "execution_count": 5,
      "metadata": {
        "trusted": true
      },
      "outputs": [
        {
          "data": {
            "text/plain": [
              "[-2, 1, 7]"
            ]
          },
          "execution_count": 5,
          "metadata": {},
          "output_type": "execute_result"
        }
      ],
      "source": [
        "sp.solve((y**5 - 6*y**4 - 5*y**3 - 10*y**2 - 36*y + 56))"
      ]
    },
    {
      "cell_type": "markdown",
      "metadata": {},
      "source": [
        "## Ejemplo 4:\n",
        "\n",
        "Encuentre las soluciones estacionarias de la EDO\n",
        "\n",
        "$$\\sin y \\sqrt{y-1} dx - (x^2-1)dy = 0 $$\n"
      ]
    },
    {
      "cell_type": "code",
      "execution_count": 6,
      "metadata": {
        "trusted": true
      },
      "outputs": [
        {
          "data": {
            "text/latex": [
              "$\\displaystyle \\left\\{1\\right\\} \\cup \\left\\{2 n \\pi\\; \\middle|\\; n \\in \\mathbb{Z}\\right\\} \\cup \\left\\{2 n \\pi + \\pi\\; \\middle|\\; n \\in \\mathbb{Z}\\right\\}$"
            ],
            "text/plain": [
              "Union({1}, ImageSet(Lambda(_n, 2*_n*pi + pi), Integers), ImageSet(Lambda(_n, 2*_n*pi), Integers))"
            ]
          },
          "execution_count": 6,
          "metadata": {},
          "output_type": "execute_result"
        }
      ],
      "source": [
        "sp.solveset(sp.sin(y)*sp.sqrt(y-1)) #solve set me da el dominio de forma bonita"
      ]
    },
    {
      "cell_type": "markdown",
      "metadata": {},
      "source": [
        "## Ejemplo 5: Declaración/Resolución/Comprobación de EDO\n",
        "\n",
        "Declarar y resolver la ecuación diferencial de Bernoulli usando comando `dsolve`\n",
        "\n",
        "$$\\dfrac{dy}{dx} - y = 2e^x y^2 $$"
      ]
    },
    {
      "cell_type": "code",
      "execution_count": 63,
      "metadata": {},
      "outputs": [
        {
          "data": {
            "text/latex": [
              "$\\displaystyle - y{\\left(x \\right)} + \\frac{d}{d x} y{\\left(x \\right)} = 2 y^{2}{\\left(x \\right)} e^{x}$"
            ],
            "text/plain": [
              "Eq(-y(x) + Derivative(y(x), x), 2*y(x)**2*exp(x))"
            ]
          },
          "execution_count": 63,
          "metadata": {},
          "output_type": "execute_result"
        }
      ],
      "source": [
        "y=sp.Function(\"y\")\n",
        "\n",
        "x=sp.Symbol(\"x\")\n",
        "\n",
        "EDO=sp.Eq(sp.diff(y(x),x)-y(x), 2*sp.exp(x)*y(x)**2)\n",
        "EDO"
      ]
    },
    {
      "cell_type": "code",
      "execution_count": 25,
      "metadata": {},
      "outputs": [
        {
          "data": {
            "text/latex": [
              "$\\displaystyle y{\\left(x \\right)} = \\frac{e^{x}}{C_{1} - e^{2 x}}$"
            ],
            "text/plain": [
              "Eq(y(x), exp(x)/(C1 - exp(2*x)))"
            ]
          },
          "execution_count": 25,
          "metadata": {},
          "output_type": "execute_result"
        }
      ],
      "source": [
        "SOL=sp.dsolve(EDO,y(x)) #resuelve la ecuacion\n",
        "SOL"
      ]
    },
    {
      "cell_type": "code",
      "execution_count": 22,
      "metadata": {
        "trusted": true
      },
      "outputs": [
        {
          "data": {
            "text/latex": [
              "$\\displaystyle \\frac{d^{20}}{d x^{20}} - y{\\left(x \\right)} + \\frac{d}{d x} y{\\left(x \\right)} = 2 y^{2}{\\left(x \\right)} e^{x}$"
            ],
            "text/plain": [
              "Derivative(Eq(-y(x) + Derivative(y(x), x), 2*y(x)**2*exp(x)), (x, 20))"
            ]
          },
          "execution_count": 22,
          "metadata": {},
          "output_type": "execute_result"
        }
      ],
      "source": [
        "sp.diff(EDO,x,20) #es un ejemplo que que estoy haciendo la derivada 20va de x"
      ]
    },
    {
      "cell_type": "code",
      "execution_count": 27,
      "metadata": {
        "trusted": true
      },
      "outputs": [
        {
          "name": "stderr",
          "output_type": "stream",
          "text": [
            "C:\\Users\\diego\\AppData\\Local\\Packages\\PythonSoftwareFoundation.Python.3.12_qbz5n2kfra8p0\\LocalCache\\local-packages\\Python312\\site-packages\\sympy\\integrals\\integrals.py:1564: SymPyDeprecationWarning: \n",
            "\n",
            "Creating a indefinite integral with an Eq() argument is\n",
            "deprecated.\n",
            "\n",
            "This is because indefinite integrals do not preserve equality\n",
            "due to the arbitrary constants. If you want an equality of\n",
            "indefinite integrals, use Eq(Integral(a, x), Integral(b, x))\n",
            "explicitly.\n",
            "\n",
            "See https://docs.sympy.org/latest/explanation/active-deprecations.html#deprecated-indefinite-integral-eq\n",
            "for details.\n",
            "\n",
            "This has been deprecated since SymPy version 1.6. It\n",
            "will be removed in a future version of SymPy.\n",
            "\n",
            "  integral = Integral(*args, **kwargs)\n"
          ]
        },
        {
          "data": {
            "text/latex": [
              "$\\displaystyle \\int \\left(- y{\\left(x \\right)} + \\frac{d}{d x} y{\\left(x \\right)}\\right)\\, dx = 2 \\int y^{2}{\\left(x \\right)} e^{x}\\, dx$"
            ],
            "text/plain": [
              "Eq(Integral(-y(x) + Derivative(y(x), x), x), 2*Integral(y(x)**2*exp(x), x))"
            ]
          },
          "execution_count": 27,
          "metadata": {},
          "output_type": "execute_result"
        }
      ],
      "source": [
        "sp.integrate(EDO,x)#hacer integrales"
      ]
    },
    {
      "cell_type": "markdown",
      "metadata": {},
      "source": [
        "Eq="
      ]
    },
    {
      "cell_type": "markdown",
      "metadata": {},
      "source": [
        "## Ejemplo 6: PVI\n",
        "\n",
        "Resolver el PVI\n",
        "$$\\dfrac{dy}{dx} - y = 2e^x y^2 \\quad ; \\quad y(1)=\\pi$$\n"
      ]
    },
    {
      "cell_type": "code",
      "execution_count": 28,
      "metadata": {},
      "outputs": [
        {
          "data": {
            "text/latex": [
              "$\\displaystyle y{\\left(x \\right)} = \\frac{e^{x}}{- e^{2 x} + \\frac{e + \\pi e^{2}}{\\pi}}$"
            ],
            "text/plain": [
              "Eq(y(x), exp(x)/(-exp(2*x) + (E + pi*exp(2))/pi))"
            ]
          },
          "execution_count": 28,
          "metadata": {},
          "output_type": "execute_result"
        }
      ],
      "source": [
        "\n",
        "sol = sp.dsolve(EDO, y(x), ics={y(1): sp.pi})\n",
        "sol"
      ]
    },
    {
      "cell_type": "markdown",
      "metadata": {},
      "source": [
        "## Ejemplo 7: Calculo de derivadas\n",
        "\n",
        "Verificar si la EDO es exacta \n",
        "\n",
        "$$\\left[ \\dfrac{\\ln(\\ln(y))}{x}+\\dfrac{2}{3}xy^3+6x \\right] dx+ \\left[\\dfrac{\\ln(x)}{y\\ln(y)}+x^2y^2+4e^{-2y} \\right]dy=0$$\n"
      ]
    },
    {
      "cell_type": "code",
      "execution_count": 59,
      "metadata": {
        "trusted": true
      },
      "outputs": [],
      "source": [
        "x=sp.symbols(\"x\", real=True)\n",
        "y=sp.symbols(\"y\", real=True)\n",
        "C=sp.symbols(\"C\", real=True)\n",
        "\n",
        "\n",
        "\n",
        "\n",
        "\n"
      ]
    },
    {
      "cell_type": "code",
      "execution_count": 60,
      "metadata": {
        "scrolled": true,
        "trusted": true
      },
      "outputs": [
        {
          "data": {
            "text/latex": [
              "$\\displaystyle \\frac{2 x y^{3}}{3} + 6 x + \\frac{\\log{\\left(\\log{\\left(y \\right)} \\right)}}{x}$"
            ],
            "text/plain": [
              "2*x*y**3/3 + 6*x + log(log(y))/x"
            ]
          },
          "execution_count": 60,
          "metadata": {},
          "output_type": "execute_result"
        }
      ],
      "source": [
        "M=(sp.log((sp.log(y)))/x+sp.Rational(2,3)*x*y**3+6*x) #es M es decir tenemos a Fx\n",
        "M"
      ]
    },
    {
      "cell_type": "code",
      "execution_count": 36,
      "metadata": {
        "trusted": true
      },
      "outputs": [
        {
          "data": {
            "text/latex": [
              "$\\displaystyle x^{2} y^{2} + 4 e^{- 2 y} + \\frac{\\log{\\left(x \\right)}}{y \\log{\\left(y \\right)}}$"
            ],
            "text/plain": [
              "x**2*y**2 + 4*exp(-2*y) + log(x)/(y*log(y))"
            ]
          },
          "execution_count": 36,
          "metadata": {},
          "output_type": "execute_result"
        }
      ],
      "source": [
        "N=(sp.log(x)/(y*sp.log(y))+x**2*y**2+4*sp.exp(-2*y)) #es M es decir tenemos a Fy\n",
        "N"
      ]
    },
    {
      "cell_type": "code",
      "execution_count": 37,
      "metadata": {
        "trusted": true
      },
      "outputs": [
        {
          "data": {
            "text/latex": [
              "$\\displaystyle 2 x y^{2} + \\frac{1}{x y \\log{\\left(y \\right)}}$"
            ],
            "text/plain": [
              "2*x*y**2 + 1/(x*y*log(y))"
            ]
          },
          "execution_count": 37,
          "metadata": {},
          "output_type": "execute_result"
        }
      ],
      "source": [
        "sp.diff(M,y)"
      ]
    },
    {
      "cell_type": "code",
      "execution_count": 38,
      "metadata": {
        "trusted": true
      },
      "outputs": [
        {
          "data": {
            "text/latex": [
              "$\\displaystyle 2 x y^{2} + \\frac{1}{x y \\log{\\left(y \\right)}}$"
            ],
            "text/plain": [
              "2*x*y**2 + 1/(x*y*log(y))"
            ]
          },
          "execution_count": 38,
          "metadata": {},
          "output_type": "execute_result"
        }
      ],
      "source": [
        "sp.diff(N,x)"
      ]
    },
    {
      "cell_type": "markdown",
      "metadata": {},
      "source": [
        "## Ejemplo 8: Calculo de primitivas\n",
        "\n",
        "Resolver la EDO del ejemplo 7."
      ]
    },
    {
      "cell_type": "code",
      "execution_count": 39,
      "metadata": {
        "trusted": true
      },
      "outputs": [
        {
          "data": {
            "text/latex": [
              "$\\displaystyle \\frac{x^{2} \\left(y^{3} + 9\\right)}{3} + \\log{\\left(x \\right)} \\log{\\left(\\log{\\left(y \\right)} \\right)}$"
            ],
            "text/plain": [
              "x**2*(y**3 + 9)/3 + log(x)*log(log(y))"
            ]
          },
          "execution_count": 39,
          "metadata": {},
          "output_type": "execute_result"
        }
      ],
      "source": [
        "f=sp.integrate(M,x) #integramos M con respecto a x para sacar Fx=F\n",
        "f"
      ]
    },
    {
      "cell_type": "code",
      "execution_count": 44,
      "metadata": {
        "trusted": true
      },
      "outputs": [
        {
          "data": {
            "text/latex": [
              "$\\displaystyle x^{2} y^{2} + \\frac{\\log{\\left(x \\right)}}{y \\log{\\left(y \\right)}}$"
            ],
            "text/plain": [
              "x**2*y**2 + log(x)/(y*log(y))"
            ]
          },
          "execution_count": 44,
          "metadata": {},
          "output_type": "execute_result"
        }
      ],
      "source": [
        "Fy=sp.diff(f,y) #derivamos f con respecto a \"y\" para despejar la variable g(y) fy=g(y)\n",
        "Fy\n"
      ]
    },
    {
      "cell_type": "code",
      "execution_count": 45,
      "metadata": {},
      "outputs": [
        {
          "data": {
            "text/latex": [
              "$\\displaystyle x^{2} y^{2} + 4 e^{- 2 y} + \\frac{\\log{\\left(x \\right)}}{y \\log{\\left(y \\right)}}$"
            ],
            "text/plain": [
              "x**2*y**2 + 4*exp(-2*y) + log(x)/(y*log(y))"
            ]
          },
          "execution_count": 45,
          "metadata": {},
          "output_type": "execute_result"
        }
      ],
      "source": [
        "N # es Fy"
      ]
    },
    {
      "cell_type": "code",
      "execution_count": 46,
      "metadata": {
        "trusted": true
      },
      "outputs": [
        {
          "data": {
            "text/latex": [
              "$\\displaystyle - 4 e^{- 2 y}$"
            ],
            "text/plain": [
              "-4*exp(-2*y)"
            ]
          },
          "execution_count": 46,
          "metadata": {},
          "output_type": "execute_result"
        }
      ],
      "source": [
        "gy=(Fy-N) #sacamos la variable que depende de y es decir g(y) \n",
        "gy"
      ]
    },
    {
      "cell_type": "code",
      "execution_count": 49,
      "metadata": {
        "trusted": true
      },
      "outputs": [
        {
          "data": {
            "text/latex": [
              "$\\displaystyle 2 e^{- 2 y}$"
            ],
            "text/plain": [
              "2*exp(-2*y)"
            ]
          },
          "execution_count": 49,
          "metadata": {},
          "output_type": "execute_result"
        }
      ],
      "source": [
        "g=sp.integrate(gy,y) #integramos g(y) \n",
        "g"
      ]
    },
    {
      "cell_type": "code",
      "execution_count": 51,
      "metadata": {
        "trusted": true
      },
      "outputs": [
        {
          "name": "stdout",
          "output_type": "stream",
          "text": [
            "c =\n"
          ]
        },
        {
          "data": {
            "text/latex": [
              "$\\displaystyle \\frac{x^{2} \\left(y^{3} + 9\\right)}{3} + \\log{\\left(x \\right)} \\log{\\left(\\log{\\left(y \\right)} \\right)} + 2 e^{- 2 y}$"
            ],
            "text/plain": [
              "x**2*(y**3 + 9)/3 + log(x)*log(log(y)) + 2*exp(-2*y)"
            ]
          },
          "execution_count": 51,
          "metadata": {},
          "output_type": "execute_result"
        }
      ],
      "source": [
        "respuesta_final=g+f #solucion \n",
        "print(\"c =\") \n",
        "respuesta_final"
      ]
    },
    {
      "cell_type": "code",
      "execution_count": 71,
      "metadata": {
        "trusted": true
      },
      "outputs": [
        {
          "name": "stdout",
          "output_type": "stream",
          "text": [
            "no\n"
          ]
        }
      ],
      "source": [
        "y=sp.Function(\"y\")\n",
        "\n",
        "x=sp.Symbol(\"x\")\n",
        "\n",
        "EDO2=sp.Eq(sp.diff(y(x),x), M/-N)\n",
        "EDO2\n",
        "\n",
        "SOL2=sp.dsolve(EDO2,y(x))\n",
        "SOL2\n",
        "\n",
        "if (respuesta_final==SOL2):\n",
        "    print(\"si\")\n",
        "else:\n",
        "    print(\"no\")\n"
      ]
    },
    {
      "cell_type": "code",
      "execution_count": null,
      "metadata": {
        "trusted": true
      },
      "outputs": [],
      "source": []
    },
    {
      "cell_type": "code",
      "execution_count": null,
      "metadata": {
        "trusted": true
      },
      "outputs": [],
      "source": []
    }
  ],
  "metadata": {
    "kernelspec": {
      "display_name": "Python 3",
      "language": "python",
      "name": "python3"
    },
    "language_info": {
      "codemirror_mode": {
        "name": "ipython",
        "version": 3
      },
      "file_extension": ".py",
      "mimetype": "text/x-python",
      "name": "python",
      "nbconvert_exporter": "python",
      "pygments_lexer": "ipython3",
      "version": "3.12.2"
    }
  },
  "nbformat": 4,
  "nbformat_minor": 4
}
