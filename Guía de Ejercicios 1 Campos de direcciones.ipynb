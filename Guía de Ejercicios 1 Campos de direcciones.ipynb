{
 "cells": [
  {
   "cell_type": "code",
   "execution_count": 1,
   "id": "99fe353f",
   "metadata": {},
   "outputs": [],
   "source": [
    "import numpy as np\n",
    "import matplotlib.pyplot as plt"
   ]
  },
  {
   "cell_type": "markdown",
   "id": "4ee7c45a",
   "metadata": {},
   "source": [
    "# Campos de direcciones\n",
    "\n",
    "## Ejercicio 1:\n",
    "\n",
    "Considere la EDO autónoma\n",
    "$$(y^2+3y-4)\\sqrt{y} \\tan{(y)} dx - (1+y^2)dy = 0$$\n",
    "\n",
    "* (a) Encuentre todas sus soluciones estacionarias.\n",
    "* (b) Grafique el campo de direcciones asociado a la EDO autónoma.\n",
    "* (c) A partir de los resultados de (a) y (b), esboce (a mano) el retrato de fase de la EDO.\n",
    "* (d) Sin resolver la EDO, calcule $\\displaystyle\\lim_{x\\to \\infty} y$ y $\\displaystyle\\lim_{x\\to -\\infty} y$  para soluciones dentro de la región \n",
    "$$D=\\left\\lbrace (x,y) \\in \\mathbb{R}^2 \\, : \\,  0<y<1\\right\\rbrace$$"
   ]
  },
  {
   "cell_type": "code",
   "execution_count": null,
   "id": "2c0cae63",
   "metadata": {},
   "outputs": [],
   "source": []
  },
  {
   "cell_type": "markdown",
   "id": "6d9120fa",
   "metadata": {},
   "source": [
    "## Ejercicio 2:"
   ]
  },
  {
   "cell_type": "markdown",
   "id": "b2e1139a",
   "metadata": {},
   "source": [
    "La EDO autónoma\n",
    "\n",
    "$$m \\frac{dy}{dt} = mg − ky^2$$\n",
    "\n",
    "modela la velocidad $y(t)$ de un cuerpo de masa $m$ (en kg) que está cayendo bajo la influencia de la gravedad. Debido a que el término $–ky^2$ representa la resistencia del aire, la velocidad de un cuerpo que cae de una gran altura no aumenta sin límite conforme pasa el tiempo $t$.\n",
    "\n",
    "Suponga que el cuerpo tiene masa 2 $[kg]$ y $k = g$ donde $g = 9, 8 \\left[ \\frac{m}{s^2} \\right]$.\n",
    "\n",
    "* (a) Construya un campo de direcciones para la EDO autónoma.\n",
    "* (b) Determine y clasifique los puntos de equilibrio en atractor, repulsor o nodo.\n",
    "* (c) Utilice la información anterior para encontrar la velocidad límite conforme $t \\to \\infty$."
   ]
  },
  {
   "cell_type": "code",
   "execution_count": null,
   "id": "6bb99df4",
   "metadata": {},
   "outputs": [],
   "source": []
  },
  {
   "cell_type": "markdown",
   "id": "cd97c3a2",
   "metadata": {},
   "source": [
    "## Ejercicio 3:\n",
    "\n",
    "Cuando se combinan ciertas clases de reacciones químicas, la razón con la que se forman los nuevos componentes se modela por la ecuación diferencial autónoma\n",
    "\n",
    "$$\\frac{dx}{dt} = k[x^2 − (\\alpha  + \\beta)x + \\alpha \\beta],$$\n",
    "\n",
    "donde $k > 0$ es una constante de proporcionalidad, $0 < \\alpha < \\beta$, y $x(t)$ denota el número de gramos del nuevo componente al tiempo $t$. Considere el caso en que $k = \\frac{3}{2},$  $\\alpha = 2$ y $\\beta = 5$.\n",
    "\n",
    "* (a) Construya un campo de direcciones para la EDO autónoma.\n",
    "* (b) Determine y clasifique los puntos de equilibrio en atractor, repulsor o nodo.\n",
    "* (c) Utilizando la información anterior, prediga el comportamiento de $x(t)$ para diferentes\n",
    "condiciones iniciales $x(0) = x_0$ conforme $t \\to \\infty$. Relacione este resultado con el contexto\n",
    "del problema."
   ]
  },
  {
   "cell_type": "code",
   "execution_count": null,
   "id": "3e7dfac6",
   "metadata": {},
   "outputs": [],
   "source": []
  },
  {
   "cell_type": "markdown",
   "id": "3349c589",
   "metadata": {},
   "source": [
    "## Ejercicio 4:\n",
    "\n",
    "Considere la ecuación diferencial\n",
    "$$ y'=2xy^2 $$\n",
    "\n",
    "* (a) Resuelva la EDO a través de variables separabales.\n",
    "* (b) Verifique que $y=0$ también es solución de la EDO y que no pertenece a la familia de soluciones encontrada en a) ¿Contradice esto el teorema de existencia y unicidad?\n",
    "* (c) Construya un campo de direcciones asociado a la EDO.\n",
    "* (d) Utilizando un ciclo `for`, grafique al menos 10 soluciones particulares sobre el campo de direcciones y compruebe que los resultados en (a) son correctos.\n"
   ]
  },
  {
   "cell_type": "code",
   "execution_count": null,
   "id": "b9283d45",
   "metadata": {},
   "outputs": [],
   "source": []
  },
  {
   "cell_type": "markdown",
   "id": "ec9b93ac",
   "metadata": {},
   "source": [
    "## Ejercicio 5:\n",
    "\n",
    "La siguiente ecuación diferencial \n",
    "$$y' = e^{y^2}(1-y^2)$$\n",
    "es **separable** y **autónoma** y su solución general puede ser encontrada integrando \n",
    "$$\\int \\frac{1}{e^{y^2}(1-y^2)}  dy = \\int dx$$\n",
    "pero la integral respecto a $y$ no se puede calcular mediante técnicas estándar. A pesar de lo anterior, es posible estudiar su comportamiento de manera cualitativa.\n",
    "\n",
    "* (a) Encuentre las soluciones de equilibrio de la EDO.\n",
    "* (b) Construya un campo de direcciones asociado a la EDO.\n",
    "* (c) Grafique las soluciones de equilibro en el campo de direcciones (Para graficar funciones constantes se sugiere utilizar, por ejemplo, $y=c x^0$ donde corresponda).\n",
    "* (d) Determine $\\displaystyle\\lim_{x \\to \\infty} y(x)$ si $y(x)$ es una solución particular para el PVI\n",
    "$$y' = e^{y^2}(1-y^2) \\quad ; \\quad y(0)=y_0$$\n",
    "para \n",
    "    * $y_0=0$\n",
    "    * $y_0=1$\n",
    "    * $y_0=-3$\n",
    "    * $y_0=2$"
   ]
  },
  {
   "cell_type": "code",
   "execution_count": null,
   "id": "4adbe2aa",
   "metadata": {},
   "outputs": [],
   "source": []
  },
  {
   "cell_type": "markdown",
   "id": "2e628b38",
   "metadata": {},
   "source": [
    "## Ejercicio 6:\n",
    "\n",
    "La siguiente ecuación diferencial \n",
    "$$ y' = e^{-x^2} $$\n",
    "es separable y su solución general está dada por \n",
    "$$ y = \\int e^{-x^2} dx $$\n",
    "pero la función $f(x)= e^{-x^2}$ no tiene primitiva, por ende no es posible determinar una solución explícita. A pesar de lo anterior, es posible ver el comportamiento gráfico de la solución.\n",
    "\n",
    "* a) Construya un campo de direcciones asociado a la EDO.\n",
    "\n",
    "* b) Determine (si es posible) el comportamiento de $y$ cuando $x \\to \\infty$, para la condición inicial $y(3)=0$.\n",
    "\n",
    "* c) Justifique si la solución que pasa por $(3,0)$ es una función acotada.\n",
    "\n",
    "    * Recuerde que: Una función $f:I \\subset \\mathbb{R} \\to \\mathbb{R}$ se dice acotada, si existe $M > 0$ tal que\n",
    "$ |f(x)|< M , \\quad \\forall x \\in I.  $\n",
    "\n",
    "* d) A partir del campo de direcciones, justifique si existe alguna solución constante.\n"
   ]
  },
  {
   "cell_type": "code",
   "execution_count": null,
   "id": "dccb5b90",
   "metadata": {},
   "outputs": [],
   "source": []
  }
 ],
 "metadata": {
  "kernelspec": {
   "display_name": "Python 3 (ipykernel)",
   "language": "python",
   "name": "python3"
  },
  "language_info": {
   "codemirror_mode": {
    "name": "ipython",
    "version": 3
   },
   "file_extension": ".py",
   "mimetype": "text/x-python",
   "name": "python",
   "nbconvert_exporter": "python",
   "pygments_lexer": "ipython3",
   "version": "3.11.4"
  }
 },
 "nbformat": 4,
 "nbformat_minor": 5
}
