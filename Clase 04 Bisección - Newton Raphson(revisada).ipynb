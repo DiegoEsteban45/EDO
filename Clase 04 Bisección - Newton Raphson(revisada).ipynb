{
 "cells": [
  {
   "cell_type": "code",
   "execution_count": 2,
   "metadata": {},
   "outputs": [],
   "source": [
    "import numpy as np\n",
    "import sympy as sp\n",
    "import matplotlib.pyplot as plt"
   ]
  },
  {
   "cell_type": "markdown",
   "metadata": {},
   "source": [
    "# Método de bisección\n",
    "\n",
    "Este método de busqueda por bisección es utilizado para encontrar raíces de una\n",
    "función continua de variable real. La única condición es que la función cambie de\n",
    "signo en el intervalo en que buscamos. La existencia de la raíz de la función está\n",
    "garantizada de acuerdo al teorema de Bolzano:\n",
    "\n",
    "> <b>Teorema de Bolzano </b>: \n",
    "Si $f : [a, b] \\to \\mathbb{R}$, es una función continua en $[a, b]$ y $f(a)f(b) < 0$, entonces\n",
    "existe $x_0 \\in  [a, b]$ tal que $f(x_0) = 0$.\n",
    "\n",
    "El método consiste en bisecar el intervalo $[a, b]$, estudiar los signos de $f$ en los\n",
    "extremos de los nuevos intervalos de manera que podamos afirmar la existencia de\n",
    "una raíz en un intervalo más pequeño como consecuencia del teorema de Bolzano.\n",
    "\n",
    "## Algoritmo\n",
    "\n",
    "Datos de entrada: $a, b,$ función, tolerancia.\n",
    "\n",
    "calcular $x_0 =\\dfrac{a+b}{2}$\n",
    "\n",
    "Para $i = 0,1,2, ...$ \n",
    "\n",
    "* Si $f(a)f(x_i) < 0$, entonces $b = x_i$\n",
    "* Si $f(a)f(x_i) > 0$, entonces $a = x_i$\n",
    "* Si $f(a)f(x_i) = 0$, entonces $x_{i+1} = x_{i}$\n",
    "\n",
    "Hasta que $|x_{i+1}-x_{i}|< tolerancia$\n",
    "\n",
    "## Ejemplo 1:\n",
    "\n",
    "* a) Elabore una función en Python que permita encontrar una aproximación de una raíz de una función $f:[a,b] \\to \\mathbb{R}$ usando el método de bisección, considerando como datos de entrada $a,b$ y la tolerancia.\n",
    "\n",
    "* b) Utilice la función anterior y el teorema de Bolzano para encontrar las cuatro raíces de $f(x)=10x^3-2x^2+1-e^{2x}$. Ayuda: las raíces se encuentran en el intervalo $[-1,3]$."
   ]
  },
  {
   "cell_type": "code",
   "execution_count": 3,
   "metadata": {},
   "outputs": [
    {
     "data": {
      "text/plain": [
       "-11.135335283236612"
      ]
     },
     "execution_count": 3,
     "metadata": {},
     "output_type": "execute_result"
    }
   ],
   "source": [
    "def metodo_biseccion(a,b,f,t=0.0000000001):\n",
    "    while (np.abs(a-b)>=t):\n",
    "        xi=(a+b)/2\n",
    "        multi=f(a)*f(xi)\n",
    "        if multi<0:\n",
    "            b=xi\n",
    "        else:\n",
    "            if multi>0:\n",
    "                a=xi\n",
    "            else:\n",
    "                if multi==0:\n",
    "                    a=xi\n",
    "                    b=xi\n",
    "    return xi\n",
    "\n",
    "def f(x): return 10*x**3-2*x**2+1-np.exp(2*x)\n",
    "\n",
    "f(-1)"
   ]
  },
  {
   "cell_type": "code",
   "execution_count": 4,
   "metadata": {},
   "outputs": [
    {
     "data": {
      "text/plain": [
       "0.8179087029420771"
      ]
     },
     "execution_count": 4,
     "metadata": {},
     "output_type": "execute_result"
    },
    {
     "data": {
      "image/png": "[encoded data removed]",
      "text/plain": [
       "<Figure size 640x480 with 1 Axes>"
      ]
     },
     "metadata": {},
     "output_type": "display_data"
    }
   ],
   "source": [
    "x=np.linspace(-1,3,100)\n",
    "y1=10*x**3-2*x**2+1\n",
    "y2=np.exp(2*x)\n",
    "\n",
    "plt.plot(x,y1)\n",
    "plt.plot(x,y2)\n",
    "\n",
    "plt.ylim([-10,175])\n",
    "plt.grid()\n",
    "\n",
    "metodo_biseccion(0.5,1,f)\n"
   ]
  },
  {
   "cell_type": "code",
   "execution_count": 5,
   "metadata": {},
   "outputs": [
    {
     "data": {
      "text/plain": [
       "2.4673563603428192"
      ]
     },
     "execution_count": 5,
     "metadata": {},
     "output_type": "execute_result"
    }
   ],
   "source": [
    "f(2)\n",
    "f(2.5)\n",
    "metodo_biseccion(2,2.5,f)\n",
    "f((metodo_biseccion(2,2.5,f)))\n",
    "(metodo_biseccion(2,2.5,f))\n"
   ]
  },
  {
   "cell_type": "markdown",
   "metadata": {},
   "source": [
    "# Newtwon Raphson\n",
    "\n",
    "Este método es uno de los más populares para encontrar los ceros de una función, pero\n",
    "requiere del conocimiento de su derivada. La regla principal del algoritmo consiste\n",
    "en que, dado un punto $x_k$ cercano a la raíz de $f$, se determina la recta tangente a $f$\n",
    "en $(x_k, f(x_k))$: <br>\n",
    "\n",
    "$$y = f(x_k) + f'(x_k)(x - x_k)$$\n",
    "\n",
    "Luego, se define la iteración siguiente $x_{k+1}$ como el punto de intersección entre esa\n",
    "recta y el eje $x$, es decir, $x_{k+1}$ se obtiene al despejar\n",
    "\n",
    "$$0 = f(x_k) + f(x_k)(x_{k+1} - x_k)$$\n",
    "\n",
    "esto es\n",
    "$$ x_{k+1} = x_k - \\dfrac{f(x_k)}{f'(x_k)}  $$ \n",
    "\n",
    "## Algoritmo\n",
    "\n",
    "Datos de entrada: $x_0, f , tolerancia$\n",
    "\n",
    "Para $k = 0, 1, 2, ...$\n",
    "\n",
    "* calcular $x_{k+1} = x_k - \\dfrac{f(x_k)}{f'(x_k)}$\n",
    "\n",
    "Hasta que $| x_{k+1} - x_k | < tolerancia$\n",
    "\n",
    "## Ejemplo 2:\n",
    "\n",
    "Elabore una función en Python que permita encontrar una aproximación de una raíz de una función $f:[a,b] \\to \\mathbb{R}$ usando el método de Newton-Raphson, considerando como datos de entrada un valor cercano a la raíz $x_0$, la función en cuestión $f$, su derivada $f'$ y la tolerancia $t$."
   ]
  },
  {
   "cell_type": "code",
   "execution_count": 6,
   "metadata": {},
   "outputs": [],
   "source": [
    "def NR(x0,f,df,t):\n",
    "    x=[x0]\n",
    "    while True:\n",
    "        xn=x[-1]-(f(x[-1])/df(x[-1]))\n",
    "        x.append(xn)\n",
    "        if np.abs(x[-1]-x[-2])<t:\n",
    "            break\n",
    "    return x[-1]"
   ]
  },
  {
   "cell_type": "markdown",
   "metadata": {},
   "source": [
    "## Ejercicios:\n",
    "\n",
    "### 01\n",
    "\n",
    "La ecuación $\\ln(2x) = \\dfrac{x}{2}$ tiene dos soluciones. Utilice el método de la bisección con un error máximo de $10^{-8}$ para estimar las soluciones de la ecuación. Justifique su razonamiento para aplicar el método:\n",
    "\n",
    "   * Formulación de la función a utilizar.\n",
    "   * Elección de intervalo.\n",
    "   * Elección de la tolerancia."
   ]
  },
  {
   "cell_type": "code",
   "execution_count": null,
   "metadata": {},
   "outputs": [],
   "source": []
  },
  {
   "cell_type": "markdown",
   "metadata": {},
   "source": [
    "### 02*\n",
    "\n",
    "Encuentre la solución(es) a la ecuación:\n",
    "$$\\dfrac{1}{1-x}=e^x$$\n",
    "en el intervalo $[-0.5,\\, 1]$ mediante el método de bisección, si es posible. En caso contrario, justifique."
   ]
  },
  {
   "cell_type": "code",
   "execution_count": null,
   "metadata": {},
   "outputs": [],
   "source": []
  },
  {
   "cell_type": "markdown",
   "metadata": {},
   "source": [
    "### 03\n",
    "\n",
    "Encontrar utilizando el método de bisección una aproximación de $\\sqrt[3]{7}$."
   ]
  },
  {
   "cell_type": "code",
   "execution_count": null,
   "metadata": {},
   "outputs": [],
   "source": []
  },
  {
   "cell_type": "markdown",
   "metadata": {},
   "source": [
    "### 04\n",
    "\n",
    "Una canaleta  de largo $L$ tiene por sección tranversal forma de semicircunferencia de radio $r$ (ambos medidos en cm), como muestra la figura a contianuación:\n",
    "\n",
    "<table><tr>\n",
    "<td> <img src=\"C1.png\" alt=\"Drawing\" style=\"width: 250px;\"/> </td>\n",
    "<td> <img src=\"C2.png\" alt=\"Drawing\" style=\"width: 250px;\"/> </td>\n",
    "</tr></table>\n",
    "\n",
    "Cuando se llena de agua hasta una distancia $h$ de su parte superior, el volumen $V$ de agua es\n",
    "\n",
    "$$V=L\\left[ \\frac{1}{2}\\pi r^2 - r^2\\arcsin\\left(\\frac{h}{r} \\right) - h\\sqrt{r^2-h^2} \\right]$$\n",
    "\n",
    "Suponga que el $L=300 [m]$, $r=30 [cm]$ y el volumen de agua es $V=216 [cm^3]$. Encuentre una aproximación de la altura del agua desde la base de la canaleta.\n"
   ]
  },
  {
   "cell_type": "code",
   "execution_count": 7,
   "metadata": {},
   "outputs": [
    {
     "data": {
      "text/plain": [
       "-216.0"
      ]
     },
     "execution_count": 7,
     "metadata": {},
     "output_type": "execute_result"
    }
   ],
   "source": [
    "r=30\n",
    "L=30000\n",
    "def g(h): return L*(1/2*np.pi*r**2-r**2*np.arcsin(h/r)-h*np.sqrt(r**2-h**2))-216\n",
    "#h es altura y se puede considerar en el intervalo de 0 a 30\n",
    "\n",
    "g(30)\n",
    "\n"
   ]
  },
  {
   "cell_type": "code",
   "execution_count": 8,
   "metadata": {},
   "outputs": [
    {
     "data": {
      "text/plain": [
       "-216.0"
      ]
     },
     "execution_count": 8,
     "metadata": {},
     "output_type": "execute_result"
    }
   ],
   "source": [
    "g(30)"
   ]
  },
  {
   "cell_type": "code",
   "execution_count": 9,
   "metadata": {},
   "outputs": [
    {
     "data": {
      "text/plain": [
       "2.1915564616392658e-06"
      ]
     },
     "execution_count": 9,
     "metadata": {},
     "output_type": "execute_result"
    }
   ],
   "source": [
    "g(0)*g(30)\n",
    "\n",
    "metodo_biseccion(0,30,g)\n",
    "g(metodo_biseccion(0,30,g))\n",
    "\n",
    "\n",
    "\n"
   ]
  },
  {
   "cell_type": "code",
   "execution_count": 10,
   "metadata": {},
   "outputs": [
    {
     "data": {
      "text/latex": [
       "$\\displaystyle - 60000 \\sqrt{900 - x^{2}}$"
      ],
      "text/plain": [
       "-60000*sqrt(900 - x**2)"
      ]
     },
     "execution_count": 10,
     "metadata": {},
     "output_type": "execute_result"
    }
   ],
   "source": [
    "#con NR\n",
    "\n",
    "\n",
    "\n",
    "# Definir los símbolos y las constantes\n",
    "X = sp.Symbol(\"x\", real=True)  # Utilizar X en lugar de x\n",
    "L = sp.Symbol(\"L\", real=True, positive=True)\n",
    "r = sp.Symbol(\"r\", real=True, positive=True)\n",
    "\n",
    "r=30\n",
    "L=30000\n",
    "# Definir la función\n",
    "F = L * (1/2 * sp.pi * r**2 - r**2 * sp.asin(X / r) - X * sp.sqrt(r**2 - X**2)) - 216\n",
    "\n",
    "# Calcular la derivada\n",
    "sp.simplify(sp.diff(F, X))\n",
    "\n"
   ]
  },
  {
   "cell_type": "markdown",
   "metadata": {},
   "source": [
    "### 05\n",
    "\n",
    "Encuentre aproximaciones de los ejercicios previos, utilizando el método de Newton-Raphson, justificando su elección de $x_0$."
   ]
  },
  {
   "cell_type": "code",
   "execution_count": null,
   "metadata": {},
   "outputs": [],
   "source": []
  }
 ],
 "metadata": {
  "kernelspec": {
   "display_name": "Python 3",
   "language": "python",
   "name": "python3"
  },
  "language_info": {
   "codemirror_mode": {
    "name": "ipython",
    "version": 3
   },
   "file_extension": ".py",
   "mimetype": "text/x-python",
   "name": "python",
   "nbconvert_exporter": "python",
   "pygments_lexer": "ipython3",
   "version": "3.12.2"
  }
 },
 "nbformat": 4,
 "nbformat_minor": 4
}
