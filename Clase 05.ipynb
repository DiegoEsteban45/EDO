{
 "cells": [
  {
   "cell_type": "code",
   "execution_count": 41,
   "metadata": {},
   "outputs": [],
   "source": [
    "import matplotlib.pyplot as plt\n",
    "import sympy as sp"
   ]
  },
  {
   "cell_type": "markdown",
   "metadata": {},
   "source": [
    "# Transformada de Laplace\n",
    "\n",
    "Si $f(t)$ es una función definida en $[0,\\infty[$ con $t$ y $f$ reales, entonces la transformada de Laplace de la función $f$ se denota por $\\mathcal{L}\\lbrace f(t) \\rbrace = F(s)$ y se define como la integral\n",
    "$$ \\mathcal{L}\\lbrace f(t) \\rbrace = F(s) = \\int_{0}^{\\infty} f(t) e^{-st} dt $$\n",
    "siempre que la anterior sea convergente."
   ]
  },
  {
   "cell_type": "markdown",
   "metadata": {},
   "source": [
    "# Ejemplo 1\n",
    "\n",
    "Integrando de manera directa, calcular $\\mathcal{L}\\lbrace t^3 \\rbrace = \\displaystyle\\int_{0}^{\\infty} t^3 e^{-st } dt$"
   ]
  },
  {
   "cell_type": "code",
   "execution_count": 42,
   "metadata": {},
   "outputs": [],
   "source": [
    "s,t =sp.symbols(\"s t\", real = True, positive=True)\n",
    "\n",
    "\n"
   ]
  },
  {
   "cell_type": "code",
   "execution_count": 43,
   "metadata": {},
   "outputs": [
    {
     "data": {
      "text/latex": [
       "$\\displaystyle \\frac{6}{s^{4}}$"
      ],
      "text/plain": [
       "6/s**4"
      ]
     },
     "execution_count": 43,
     "metadata": {},
     "output_type": "execute_result"
    }
   ],
   "source": [
    "f=t**3*sp.exp(-s*t)\n",
    "sp.integrate(f,(t,0,sp.oo))"
   ]
  },
  {
   "cell_type": "markdown",
   "metadata": {},
   "source": [
    "Sympy tiene una función llamada `laplace_transform` que hace esto de manera eficiente y que también retorna condiciones de convergencia de la integral."
   ]
  },
  {
   "cell_type": "code",
   "execution_count": 44,
   "metadata": {},
   "outputs": [
    {
     "data": {
      "text/latex": [
       "$\\displaystyle \\frac{6}{s^{4}}$"
      ],
      "text/plain": [
       "6/s**4"
      ]
     },
     "execution_count": 44,
     "metadata": {},
     "output_type": "execute_result"
    }
   ],
   "source": [
    "sp.laplace_transform(t**3, t, s, noconds=True)"
   ]
  },
  {
   "cell_type": "markdown",
   "metadata": {},
   "source": [
    "Si deseamos solo la función sin importar las condiciones de convergencia, agregamos `noconds=True`"
   ]
  },
  {
   "cell_type": "code",
   "execution_count": null,
   "metadata": {},
   "outputs": [],
   "source": []
  },
  {
   "cell_type": "markdown",
   "metadata": {},
   "source": [
    "# Ejemplo 2\n",
    "\n",
    "Calcular transformada de Laplace de $f(t)=\\cos t$ y de $g(t)=\\cosh(2t)$"
   ]
  },
  {
   "cell_type": "markdown",
   "metadata": {},
   "source": []
  },
  {
   "cell_type": "code",
   "execution_count": 45,
   "metadata": {},
   "outputs": [
    {
     "data": {
      "text/latex": [
       "$\\displaystyle \\frac{s}{s^{2} + 1}$"
      ],
      "text/plain": [
       "s/(s**2 + 1)"
      ]
     },
     "execution_count": 45,
     "metadata": {},
     "output_type": "execute_result"
    }
   ],
   "source": [
    "sp.laplace_transform(sp.cos(t), t, s, noconds=True)"
   ]
  },
  {
   "cell_type": "code",
   "execution_count": 46,
   "metadata": {},
   "outputs": [
    {
     "data": {
      "text/latex": [
       "$\\displaystyle \\frac{s}{s^{2} - 4}$"
      ],
      "text/plain": [
       "s/(s**2 - 4)"
      ]
     },
     "execution_count": 46,
     "metadata": {},
     "output_type": "execute_result"
    }
   ],
   "source": [
    "sp.laplace_transform(sp.cosh(2*t), t, s, noconds=True)"
   ]
  },
  {
   "cell_type": "code",
   "execution_count": null,
   "metadata": {},
   "outputs": [],
   "source": []
  },
  {
   "cell_type": "markdown",
   "metadata": {},
   "source": [
    "# Ejemplo 3\n",
    "Calcular la transformada inversa de Laplace $F(s)= \\dfrac{1}{s}$"
   ]
  },
  {
   "cell_type": "code",
   "execution_count": 47,
   "metadata": {},
   "outputs": [
    {
     "data": {
      "text/latex": [
       "$\\displaystyle 1$"
      ],
      "text/plain": [
       "1"
      ]
     },
     "execution_count": 47,
     "metadata": {},
     "output_type": "execute_result"
    }
   ],
   "source": [
    "sp.inverse_laplace_transform(1/s, s, t, noconds=True)\n"
   ]
  },
  {
   "cell_type": "markdown",
   "metadata": {},
   "source": [
    "# Ejemplo 4\n",
    "\n",
    "Calcular transformada de Laplace de $f(t)=e^{-\\alpha t}$ con $\\alpha \\in \\mathbb{R}^+$. Utilice su resultado para calcular su inversa."
   ]
  },
  {
   "cell_type": "code",
   "execution_count": 48,
   "metadata": {},
   "outputs": [
    {
     "data": {
      "text/latex": [
       "$\\displaystyle \\alpha$"
      ],
      "text/plain": [
       "alpha"
      ]
     },
     "execution_count": 48,
     "metadata": {},
     "output_type": "execute_result"
    }
   ],
   "source": [
    "a=sp.symbols(\"alpha\", real=True, positive=True)\n",
    "a"
   ]
  },
  {
   "cell_type": "code",
   "execution_count": 49,
   "metadata": {},
   "outputs": [
    {
     "data": {
      "text/latex": [
       "$\\displaystyle e^{- \\alpha t}$"
      ],
      "text/plain": [
       "exp(-alpha*t)"
      ]
     },
     "execution_count": 49,
     "metadata": {},
     "output_type": "execute_result"
    }
   ],
   "source": [
    "f=sp.exp(-a*t)\n",
    "f"
   ]
  },
  {
   "cell_type": "code",
   "execution_count": 50,
   "metadata": {},
   "outputs": [
    {
     "data": {
      "text/latex": [
       "$\\displaystyle \\frac{1}{\\alpha + s}$"
      ],
      "text/plain": [
       "1/(alpha + s)"
      ]
     },
     "execution_count": 50,
     "metadata": {},
     "output_type": "execute_result"
    }
   ],
   "source": [
    "sp.laplace_transform(f,t,s, noconds = True)"
   ]
  },
  {
   "cell_type": "markdown",
   "metadata": {},
   "source": [
    "# Ejemplo 5\n",
    "\n",
    "Calcular la transformada de Laplace de \n",
    "$$ g(t) = \\cos At + t\\sin Bt, $$\n",
    "con $A,B \\in \\mathbb{R}$"
   ]
  },
  {
   "cell_type": "code",
   "execution_count": 51,
   "metadata": {},
   "outputs": [
    {
     "data": {
      "text/latex": [
       "$\\displaystyle t \\sin{\\left(B t \\right)} + \\cos{\\left(A t \\right)}$"
      ],
      "text/plain": [
       "t*sin(B*t) + cos(A*t)"
      ]
     },
     "execution_count": 51,
     "metadata": {},
     "output_type": "execute_result"
    }
   ],
   "source": [
    "A,B=sp.symbols(\"A , B\", real = True)\n",
    "g=sp.cos(A*t)+t*sp.sin(B*t)\n",
    "g"
   ]
  },
  {
   "cell_type": "code",
   "execution_count": 56,
   "metadata": {},
   "outputs": [
    {
     "data": {
      "text/latex": [
       "$\\displaystyle \\frac{s}{A^{2} + s^{2}} + \\frac{i}{2 \\left(i B + s\\right)^{2}} - \\frac{i}{2 \\left(- i B + s\\right)^{2}}$"
      ],
      "text/plain": [
       "s/(A**2 + s**2) + I/(2*(I*B + s)**2) - I/(2*(-I*B + s)**2)"
      ]
     },
     "execution_count": 56,
     "metadata": {},
     "output_type": "execute_result"
    }
   ],
   "source": [
    "sp.laplace_transform(g, t, s, noconds = True)"
   ]
  },
  {
   "cell_type": "markdown",
   "metadata": {},
   "source": [
    "# Ejemplo 6\n",
    "\n",
    "Suponga que $f:[0,\\infty[ \\to \\mathbb{R}$ es continua por partes y de orden exponencial (posee transformada de Laplace). Verifique que:\n",
    "\n",
    "$$\\mathcal{L}\\lbrace t f(t) \\rbrace = -\\dfrac{d}{ds}\\left[ f(t) \\right]$$\n",
    "\n",
    "para una función $f$ a elección."
   ]
  },
  {
   "cell_type": "code",
   "execution_count": null,
   "metadata": {},
   "outputs": [],
   "source": []
  },
  {
   "cell_type": "markdown",
   "metadata": {},
   "source": [
    "# Ejemplo 7\n",
    "\n",
    "Calcular la transformada de Laplace inversa de \n",
    "$$ H(s) = \\dfrac{(s+1)(s-1)}{(s+4)^2} $$"
   ]
  },
  {
   "cell_type": "code",
   "execution_count": null,
   "metadata": {},
   "outputs": [],
   "source": []
  },
  {
   "cell_type": "markdown",
   "metadata": {},
   "source": [
    "# Ejemplo 8\n",
    "\n",
    "Usando transformada de la Laplace, resuelva:\n",
    "$$ y''+y+1=e^{t}\\sin(2t)+\\cos(2t-1) \\quad ; y(0)=1 ; y'(0)=2$$"
   ]
  },
  {
   "cell_type": "code",
   "execution_count": null,
   "metadata": {},
   "outputs": [],
   "source": []
  },
  {
   "cell_type": "markdown",
   "metadata": {},
   "source": [
    "# Ejemplo 9\n",
    "\n",
    "Usando transformada de la Laplace, resuelva:\n",
    "$$ y''+y=\\frac{1}{\\sqrt{t}} + \\sqrt{t}  \\quad ; y(0)=1 ; y'(0)=2$$"
   ]
  },
  {
   "cell_type": "code",
   "execution_count": null,
   "metadata": {},
   "outputs": [],
   "source": []
  },
  {
   "cell_type": "markdown",
   "metadata": {},
   "source": [
    "# Ejemplo 10\n",
    "\n",
    "Usando transformada de la Laplace, resuelva:\n",
    "$$ ty''+y'+y = 0$$"
   ]
  },
  {
   "cell_type": "code",
   "execution_count": null,
   "metadata": {},
   "outputs": [],
   "source": []
  }
 ],
 "metadata": {
  "kernelspec": {
   "display_name": "Python 3 (ipykernel)",
   "language": "python",
   "name": "python3"
  },
  "language_info": {
   "codemirror_mode": {
    "name": "ipython",
    "version": 3
   },
   "file_extension": ".py",
   "mimetype": "text/x-python",
   "name": "python",
   "nbconvert_exporter": "python",
   "pygments_lexer": "ipython3",
   "version": "3.12.2"
  }
 },
 "nbformat": 4,
 "nbformat_minor": 4
}
