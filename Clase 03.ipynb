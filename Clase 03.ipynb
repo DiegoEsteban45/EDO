{
 "cells": [
  {
   "cell_type": "code",
   "execution_count": 45,
   "metadata": {},
   "outputs": [],
   "source": [
    "from matplotlib import pyplot as plt\n",
    "import sympy as sp\n",
    "import numpy as np\n",
    "\n",
    "def met_euler(f,x0,xn,y0,h):\n",
    "    n=int((xn-x0)/h)\n",
    "    x=np.linspace(x0,xn,n+1)\n",
    "    y=np.linspace(x0,xn,n+1)\n",
    "    y[0]=y0\n",
    "    for i in range(n):\n",
    "        y[i+1]=y[i]+h*f(x[i],y[i])\n",
    "    return y"
   ]
  },
  {
   "cell_type": "markdown",
   "metadata": {},
   "source": [
    "## Métodos numéricos\n",
    "\n",
    "Cuando trabajamos con métodos numéricos en la resolución de ecuaciones diferenciales, el objetivo es encontrar un conjunto de valores que se aproximen una solución particular de la ecuación diferencial propuesta.\n",
    "\n",
    "Existen diferentes algoritmos que permiten implementar estos métodos numéricos, algunos más certeros que otros, y por tanto es posible (en ocasiones) estimar el error y decidir qué método emplear en cada etapa de la busqueda de una buena aproximación de la solución.\n",
    "\n",
    "## Método de Euler\n",
    "\n",
    "Se utiliza para encontrar una aproximación de la solución al problema de valor inicial\n",
    "\n",
    "$$ y'=f(x,y) \\quad ; \\quad y(x_0)=y_0 $$\n",
    "\n",
    "el algoritmo asociado al método de Euler está dado por:\n",
    "\n",
    "Para $i=0,1, ... , n-1$ realizar <br>\n",
    "*    $ x_i = x_0+ih $ <br>\n",
    "*    $y_{i+1}= y_i +h f(x_i , y_i) $ <br>\n",
    "    \n",
    "Fin\n",
    "\n",
    "## Ejemplo 1\n",
    "\n",
    "Considere el problema de valores iniciales \n",
    "$$ y'=\\dfrac{y}{x}+x\\mathrm{e}^{-\\frac{y}{x}} \\quad ; \\quad y(1)=2,$$\n",
    "* a) Utilice el método de Euler para encontrar una aproximación de $y(11)$ para el problema de valores iniciales utilizando $h=1$.\n",
    "* b) Encuentre la solución del PVI realizando la sustitución $y=zx$. En un mismo gráfico trace la solución aproximada y la solución explícita al PVI.\n",
    "* c) Calcule el error absoluto, luego justifique si es una buena aproximación ¿Cómo cree que se puede mejorar?"
   ]
  },
  {
   "cell_type": "code",
   "execution_count": 46,
   "metadata": {},
   "outputs": [
    {
     "data": {
      "text/plain": [
       "array([ 2.        ,  4.13533528,  6.4559638 ,  8.9567102 , 11.62207214,\n",
       "       14.43569017, 17.38271812, 20.45026675, 23.62729081, 26.90433723,\n",
       "       30.273286  ])"
      ]
     },
     "execution_count": 46,
     "metadata": {},
     "output_type": "execute_result"
    }
   ],
   "source": [
    "x=np.linspace(1,11,11)\n",
    "y=np.linspace(1,11,11)\n",
    "\n",
    "h=1\n",
    "\n",
    "y[0]=2\n",
    "\n",
    "n=(int(11-1/h))\n",
    "\n",
    "for i in range(n):\n",
    "    y[i+1]=y[i]+h*(y[i]/x[i]+x[i]*np.exp(-y[i]/x[i]))\n",
    "y\n"
   ]
  },
  {
   "cell_type": "code",
   "execution_count": 47,
   "id": "cc42b45b",
   "metadata": {},
   "outputs": [
    {
     "name": "stdout",
     "output_type": "stream",
     "text": [
      "1.1409655350608006\n",
      "0.037688856608271364\n"
     ]
    },
    {
     "data": {
      "image/png": "[encoded data removed]",
      "text/plain": [
       "<Figure size 640x480 with 1 Axes>"
      ]
     },
     "metadata": {},
     "output_type": "display_data"
    }
   ],
   "source": [
    "plt.plot(x,y,\"o\", label=\"aprox con met euler\")\n",
    "X=np.linspace(1,11,100)\n",
    "yp=X*np.log(np.abs(X+np.exp(2)-1))\n",
    "plt.plot(X,yp,label=\"solucion real\")\n",
    "plt.grid()\n",
    "plt.legend\n",
    "\n",
    "ERROR=np.abs(yp[-1]-y[-1])#error asoluto\n",
    "Errorporcentual=ERROR/np.abs(y[-1])\n",
    "print(ERROR)\n",
    "print(Errorporcentual)"
   ]
  },
  {
   "cell_type": "markdown",
   "metadata": {},
   "source": [
    "## Ejemplo 2\n",
    "\n",
    "* a) Defina una función en Python que permita encontrar una aproximación de $y(x_n)$ para el problema de valores iniciales general\n",
    "\n",
    "$$ y'(x)=f(x,y) \\quad , \\quad y(x_0)=y_0$$\n",
    "\n",
    "dados los datos de entrada $f(x,y), x_0, x_n, y_0, n$ (o $h$ en su defecto)\n",
    "\n",
    "* b) Utilice la función anterior para encontrar una aproximación de $y(11)$ al PVI del ejemplo 1"
   ]
  },
  {
   "cell_type": "code",
   "execution_count": 48,
   "metadata": {},
   "outputs": [
    {
     "data": {
      "text/plain": [
       "array([10.   , 10.98 , 11.959, 12.935, 13.906, 14.87 , 15.825, 16.769,\n",
       "       17.7  , 18.616, 19.515, 20.395])"
      ]
     },
     "execution_count": 48,
     "metadata": {},
     "output_type": "execute_result"
    }
   ],
   "source": [
    "def f(x,y) : return 9.8-x**2\n",
    "met_euler(f,0,1.1,10,0.1)\n",
    "\n"
   ]
  },
  {
   "cell_type": "markdown",
   "metadata": {},
   "source": [
    "## Ejemplo 3\n",
    "\n",
    "La EDO autónoma y de Riccati\n",
    "\n",
    "$$m \\frac{dy}{dt} = mg − ky^2$$\n",
    "\n",
    "modela la velocidad $y(t)$ de un cuerpo de masa $m$ (en kg) que está cayendo bajo la influencia de la gravedad. Debido a que el término $–ky^2$ representa la resistencia del aire, la velocidad de un cuerpo que cae de una gran altura no aumenta sin límite conforme pasa el tiempo $t$.\n",
    "\n",
    "Suponga que el cuerpo tiene masa 2 $[kg]$ y $k = 2$ donde $g = 9, 8 \\left[ \\frac{m}{s^2} \\right]$ y que en el instante $t=0$ el cuerpo tiene velociadad $10 \\left[ \\frac{m}{s} \\right]$.\n",
    "\n",
    "* a) Usando el método de Euler, determine la velocidad del cuerpo al cabo de $10 [s]$, usando:\n",
    "    * $h=0.1$\n",
    "    * $n=300$\n",
    "\n",
    "* b) Verifique que $y(t) = \\dfrac{\\sqrt{g} \\sqrt{m} }{\\sqrt{k}} \\tanh\\left[ \\sqrt{g} \\sqrt{k}\\left( C \\sqrt{m}+ \\dfrac{t}{\\sqrt{m}} \\right) \\right]$ es la solución general de la EDO.\n",
    "* c) Calcule la solución particular que satisface la condición inicial.\n",
    "* d) Calcule el error cometido en cada uno de las aproximaciones de a). Justifique cuál es una mejor aproximación."
   ]
  },
  {
   "cell_type": "code",
   "execution_count": null,
   "metadata": {},
   "outputs": [],
   "source": []
  },
  {
   "cell_type": "markdown",
   "metadata": {},
   "source": [
    "# Ejercicio 1\n",
    "\n",
    "Para el problema \n",
    "$$ y'=f(x,y) \\quad ; \\quad y(x_0)=y_0 $$\n",
    "\n",
    "el algoritmo asociado al método RK4 está dado por:\n",
    "    \n",
    "Para $i=0,1, ... , n-1$ realizar <br>\n",
    "\n",
    "*    $ x_i = x_0+ih $ <br>\n",
    "\n",
    "*    $ K_1 = f(x_i,y_i) $ <br>\n",
    "\n",
    "*    $ K_2 = f\\left( x_i + \\dfrac{h}{2} , y_i + \\dfrac{h}{2} K_1 \\right) $ <br>\n",
    "\n",
    "*    $ K_3 = f\\left( x_i + \\dfrac{h}{2} , y_i + \\dfrac{h}{2} K_2 \\right) $ <br>\n",
    "\n",
    "*    $ K_4 = f\\left( x_i + h , y_i + h K_3 \\right) $ <br>\n",
    "\n",
    "*    $y_{i+1} = y_i + \\dfrac{h}{6} \\left[ K_1 + 2K_2 + 2K_3 + K_4 \\right] $ <br>\n",
    "\n",
    "Fin\n",
    "\n",
    "* a) Defina una función en Python, llamada RK4, que permita encontrar una aproximación de $y(x_n)$ para el problema de valores iniciales general:\n",
    "\n",
    "$$ y'(x)=f(x,y) \\quad , \\quad y(x_0)=y_0$$\n",
    "\n",
    "cuyos datos es entrada serán $f(x,y), x_0, x_n, y_0, n$ (o $h$ en su defecto)\n",
    "\n",
    "* b) Utilice la función anterior para encontrar las aproximaciónes de los ejemplos 1 y 3."
   ]
  },
  {
   "cell_type": "code",
   "execution_count": 49,
   "metadata": {},
   "outputs": [
    {
     "data": {
      "text/plain": [
       "2.7285193591039745"
      ]
     },
     "execution_count": 49,
     "metadata": {},
     "output_type": "execute_result"
    }
   ],
   "source": [
    "#taller del año pasado\n",
    "\n",
    "#(1)\n",
    "\n",
    "def p(x,y): return (np.exp(-x**2)*y)/(np.sin(y))\n",
    "AP=met_euler(p,0,0.1,1,0.0001)\n",
    "AP[-1]\n",
    "len(AP)\n",
    "\n",
    "ERROR=np.abs(1.1526002455776254-(AP[-1]))\n",
    "ERROR\n",
    "ERRORPORCENTUAL=(ERROR/1.1526002455776254)*100\n",
    "ERRORPORCENTUAL\n",
    "\n",
    "\n"
   ]
  },
  {
   "cell_type": "code",
   "execution_count": 50,
   "id": "0b3234bf",
   "metadata": {},
   "outputs": [
    {
     "data": {
      "text/plain": [
       "2.0563144491170533"
      ]
     },
     "execution_count": 50,
     "metadata": {},
     "output_type": "execute_result"
    }
   ],
   "source": [
    "#(2)\n",
    "\n",
    "def metodo_biseccion(a,b,f,t=0.0000000001):\n",
    "    while (np.abs(a-b)>=t):\n",
    "        xi=(a+b)/2\n",
    "        multi=f(a)*f(xi)\n",
    "        if multi<0:\n",
    "            b=xi\n",
    "        else:\n",
    "            if multi>0:\n",
    "                a=xi\n",
    "            else:\n",
    "                if multi==0:\n",
    "                    a=xi\n",
    "                    b=xi\n",
    "    return xi\n",
    "\n",
    "r=5\n",
    "lam=1/3\n",
    "def h(x): return r*(1-np.cos(x)+(1/lam)*(1-np.sqrt(1-lam**2*np.sin(x)**2)))-8\n",
    "metodo_biseccion(2,3,h)\n",
    "\n",
    "\n",
    "\n",
    "\n",
    "\n"
   ]
  },
  {
   "cell_type": "code",
   "execution_count": 51,
   "id": "8c0e0a66",
   "metadata": {},
   "outputs": [
    {
     "data": {
      "text/latex": [
       "$\\displaystyle 5.0 \\sin{\\left(x \\right)} + \\frac{0.857492925712544 \\sin{\\left(2 x \\right)}}{\\sqrt{0.0588235294117647 \\cos{\\left(2 x \\right)} + 1}}$"
      ],
      "text/plain": [
       "5.0*sin(x) + 0.857492925712544*sin(2*x)/sqrt(0.0588235294117647*cos(2*x) + 1)"
      ]
     },
     "execution_count": 51,
     "metadata": {},
     "output_type": "execute_result"
    }
   ],
   "source": [
    "x = sp.Symbol(\"x\", real=True)  # Utilizar X en lugar de x\n",
    "r=5\n",
    "lam=1/3\n",
    "# Definir la función\n",
    "F = r*(1-sp.cos(x)+(1/lam)*(1-sp.sqrt(1-lam**2*sp.sin(x)**2)))\n",
    "\n",
    "# Calcular la derivada\n",
    "fx=sp.simplify(sp.diff(F, x))\n",
    "\n",
    "fxx=sp.simplify(sp.diff(sp.simplify(sp.diff(F, x)), x))\n",
    "\n",
    "fx\n",
    "\n",
    "\n",
    "\n",
    "\n"
   ]
  },
  {
   "cell_type": "code",
   "execution_count": 52,
   "id": "8d064207",
   "metadata": {},
   "outputs": [
    {
     "data": {
      "text/latex": [
       "$\\displaystyle 5.0 \\cos{\\left(x \\right)} + \\frac{1.66666666666667 \\cos{\\left(2 x \\right)}}{\\sqrt{1 - 0.111111111111111 \\sin^{2}{\\left(x \\right)}}} + \\frac{0.0462962962962963 \\sin^{2}{\\left(2 x \\right)}}{\\left(1 - 0.111111111111111 \\sin^{2}{\\left(x \\right)}\\right)^{\\frac{3}{2}}}$"
      ],
      "text/plain": [
       "5.0*cos(x) + 1.66666666666667*cos(2*x)/sqrt(1 - 0.111111111111111*sin(x)**2) + 0.0462962962962963*sin(2*x)**2/(1 - 0.111111111111111*sin(x)**2)**(3/2)"
      ]
     },
     "execution_count": 52,
     "metadata": {},
     "output_type": "execute_result"
    }
   ],
   "source": [
    "fxx"
   ]
  }
 ],
 "metadata": {
  "kernelspec": {
   "display_name": "Python 3",
   "language": "python",
   "name": "python3"
  },
  "language_info": {
   "codemirror_mode": {
    "name": "ipython",
    "version": 3
   },
   "file_extension": ".py",
   "mimetype": "text/x-python",
   "name": "python",
   "nbconvert_exporter": "python",
   "pygments_lexer": "ipython3",
   "version": "3.12.2"
  }
 },
 "nbformat": 4,
 "nbformat_minor": 5
}
